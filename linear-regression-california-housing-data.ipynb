{
 "cells": [
  {
   "cell_type": "code",
   "execution_count": 2,
   "id": "e0eef78f",
   "metadata": {
    "execution": {
     "iopub.execute_input": "2022-12-20T09:54:14.541632Z",
     "iopub.status.busy": "2022-12-20T09:54:14.540892Z",
     "iopub.status.idle": "2022-12-20T09:54:14.545862Z",
     "shell.execute_reply": "2022-12-20T09:54:14.544785Z"
    },
    "papermill": {
     "duration": 0.017342,
     "end_time": "2022-12-20T09:54:14.548947",
     "exception": false,
     "start_time": "2022-12-20T09:54:14.531605",
     "status": "completed"
    },
    "tags": []
   },
   "outputs": [],
   "source": [
    "import pandas as pd\n",
    "import matplotlib.pyplot as plt"
   ]
  },
  {
   "cell_type": "code",
   "execution_count": 3,
   "id": "050c6441",
   "metadata": {
    "execution": {
     "iopub.execute_input": "2022-12-20T09:54:14.567626Z",
     "iopub.status.busy": "2022-12-20T09:54:14.566888Z",
     "iopub.status.idle": "2022-12-20T09:54:14.669583Z",
     "shell.execute_reply": "2022-12-20T09:54:14.668562Z"
    },
    "papermill": {
     "duration": 0.114555,
     "end_time": "2022-12-20T09:54:14.672250",
     "exception": false,
     "start_time": "2022-12-20T09:54:14.557695",
     "status": "completed"
    },
    "tags": []
   },
   "outputs": [
    {
     "data": {
      "text/html": [
       "<div>\n",
       "<style scoped>\n",
       "    .dataframe tbody tr th:only-of-type {\n",
       "        vertical-align: middle;\n",
       "    }\n",
       "\n",
       "    .dataframe tbody tr th {\n",
       "        vertical-align: top;\n",
       "    }\n",
       "\n",
       "    .dataframe thead th {\n",
       "        text-align: right;\n",
       "    }\n",
       "</style>\n",
       "<table border=\"1\" class=\"dataframe\">\n",
       "  <thead>\n",
       "    <tr style=\"text-align: right;\">\n",
       "      <th></th>\n",
       "      <th>longitude</th>\n",
       "      <th>latitude</th>\n",
       "      <th>housing_median_age</th>\n",
       "      <th>total_rooms</th>\n",
       "      <th>total_bedrooms</th>\n",
       "      <th>population</th>\n",
       "      <th>households</th>\n",
       "      <th>median_income</th>\n",
       "      <th>median_house_value</th>\n",
       "      <th>ocean_proximity</th>\n",
       "    </tr>\n",
       "  </thead>\n",
       "  <tbody>\n",
       "    <tr>\n",
       "      <th>876</th>\n",
       "      <td>-122.01</td>\n",
       "      <td>37.56</td>\n",
       "      <td>6.0</td>\n",
       "      <td>3028.0</td>\n",
       "      <td>778.0</td>\n",
       "      <td>1531.0</td>\n",
       "      <td>736.0</td>\n",
       "      <td>4.4259</td>\n",
       "      <td>158000.0</td>\n",
       "      <td>NEAR BAY</td>\n",
       "    </tr>\n",
       "    <tr>\n",
       "      <th>19573</th>\n",
       "      <td>-120.95</td>\n",
       "      <td>37.62</td>\n",
       "      <td>11.0</td>\n",
       "      <td>4981.0</td>\n",
       "      <td>814.0</td>\n",
       "      <td>1934.0</td>\n",
       "      <td>686.0</td>\n",
       "      <td>3.7041</td>\n",
       "      <td>174800.0</td>\n",
       "      <td>INLAND</td>\n",
       "    </tr>\n",
       "    <tr>\n",
       "      <th>16791</th>\n",
       "      <td>-122.45</td>\n",
       "      <td>37.67</td>\n",
       "      <td>36.0</td>\n",
       "      <td>1664.0</td>\n",
       "      <td>326.0</td>\n",
       "      <td>963.0</td>\n",
       "      <td>322.0</td>\n",
       "      <td>4.7813</td>\n",
       "      <td>246400.0</td>\n",
       "      <td>NEAR OCEAN</td>\n",
       "    </tr>\n",
       "    <tr>\n",
       "      <th>11649</th>\n",
       "      <td>-118.04</td>\n",
       "      <td>33.85</td>\n",
       "      <td>24.0</td>\n",
       "      <td>2233.0</td>\n",
       "      <td>347.0</td>\n",
       "      <td>1162.0</td>\n",
       "      <td>355.0</td>\n",
       "      <td>5.6094</td>\n",
       "      <td>279200.0</td>\n",
       "      <td>&lt;1H OCEAN</td>\n",
       "    </tr>\n",
       "    <tr>\n",
       "      <th>14908</th>\n",
       "      <td>-117.05</td>\n",
       "      <td>32.62</td>\n",
       "      <td>34.0</td>\n",
       "      <td>3928.0</td>\n",
       "      <td>686.0</td>\n",
       "      <td>2315.0</td>\n",
       "      <td>681.0</td>\n",
       "      <td>4.2851</td>\n",
       "      <td>144500.0</td>\n",
       "      <td>NEAR OCEAN</td>\n",
       "    </tr>\n",
       "  </tbody>\n",
       "</table>\n",
       "</div>"
      ],
      "text/plain": [
       "       longitude  latitude  housing_median_age  total_rooms  total_bedrooms  \\\n",
       "876      -122.01     37.56                 6.0       3028.0           778.0   \n",
       "19573    -120.95     37.62                11.0       4981.0           814.0   \n",
       "16791    -122.45     37.67                36.0       1664.0           326.0   \n",
       "11649    -118.04     33.85                24.0       2233.0           347.0   \n",
       "14908    -117.05     32.62                34.0       3928.0           686.0   \n",
       "\n",
       "       population  households  median_income  median_house_value  \\\n",
       "876        1531.0       736.0         4.4259            158000.0   \n",
       "19573      1934.0       686.0         3.7041            174800.0   \n",
       "16791       963.0       322.0         4.7813            246400.0   \n",
       "11649      1162.0       355.0         5.6094            279200.0   \n",
       "14908      2315.0       681.0         4.2851            144500.0   \n",
       "\n",
       "      ocean_proximity  \n",
       "876          NEAR BAY  \n",
       "19573          INLAND  \n",
       "16791      NEAR OCEAN  \n",
       "11649       <1H OCEAN  \n",
       "14908      NEAR OCEAN  "
      ]
     },
     "execution_count": 3,
     "metadata": {},
     "output_type": "execute_result"
    }
   ],
   "source": [
    "housing_data = pd.read_csv('/kaggle/input/california-housing-prices/housing.csv')\n",
    "housing_data.sample(5)"
   ]
  },
  {
   "cell_type": "code",
   "execution_count": 4,
   "id": "212a521a",
   "metadata": {
    "execution": {
     "iopub.execute_input": "2022-12-20T09:54:14.690223Z",
     "iopub.status.busy": "2022-12-20T09:54:14.689847Z",
     "iopub.status.idle": "2022-12-20T09:54:14.708674Z",
     "shell.execute_reply": "2022-12-20T09:54:14.706899Z"
    },
    "papermill": {
     "duration": 0.033515,
     "end_time": "2022-12-20T09:54:14.713768",
     "exception": false,
     "start_time": "2022-12-20T09:54:14.680253",
     "status": "completed"
    },
    "tags": []
   },
   "outputs": [],
   "source": [
    "housing_data = housing_data.dropna()"
   ]
  },
  {
   "cell_type": "code",
   "execution_count": 5,
   "id": "6e52a416",
   "metadata": {
    "execution": {
     "iopub.execute_input": "2022-12-20T09:54:14.739372Z",
     "iopub.status.busy": "2022-12-20T09:54:14.738353Z",
     "iopub.status.idle": "2022-12-20T09:54:14.750426Z",
     "shell.execute_reply": "2022-12-20T09:54:14.749469Z"
    },
    "papermill": {
     "duration": 0.028763,
     "end_time": "2022-12-20T09:54:14.753781",
     "exception": false,
     "start_time": "2022-12-20T09:54:14.725018",
     "status": "completed"
    },
    "tags": []
   },
   "outputs": [
    {
     "data": {
      "text/plain": [
       "(20433, 10)"
      ]
     },
     "execution_count": 5,
     "metadata": {},
     "output_type": "execute_result"
    }
   ],
   "source": [
    "housing_data.shape"
   ]
  },
  {
   "cell_type": "code",
   "execution_count": 6,
   "id": "52db8507",
   "metadata": {
    "execution": {
     "iopub.execute_input": "2022-12-20T09:54:14.781838Z",
     "iopub.status.busy": "2022-12-20T09:54:14.781296Z",
     "iopub.status.idle": "2022-12-20T09:54:14.797301Z",
     "shell.execute_reply": "2022-12-20T09:54:14.795885Z"
    },
    "papermill": {
     "duration": 0.032681,
     "end_time": "2022-12-20T09:54:14.800427",
     "exception": false,
     "start_time": "2022-12-20T09:54:14.767746",
     "status": "completed"
    },
    "tags": []
   },
   "outputs": [
    {
     "data": {
      "text/plain": [
       "longitude             958\n",
       "latitude              958\n",
       "housing_median_age    958\n",
       "total_rooms           958\n",
       "total_bedrooms        958\n",
       "population            958\n",
       "households            958\n",
       "median_income         958\n",
       "median_house_value    958\n",
       "ocean_proximity       958\n",
       "dtype: int64"
      ]
     },
     "execution_count": 6,
     "metadata": {},
     "output_type": "execute_result"
    }
   ],
   "source": [
    "housing_data.loc[housing_data['median_house_value']==500001].count()"
   ]
  },
  {
   "cell_type": "code",
   "execution_count": 7,
   "id": "a55e2620",
   "metadata": {
    "execution": {
     "iopub.execute_input": "2022-12-20T09:54:14.821200Z",
     "iopub.status.busy": "2022-12-20T09:54:14.820717Z",
     "iopub.status.idle": "2022-12-20T09:54:14.834125Z",
     "shell.execute_reply": "2022-12-20T09:54:14.832938Z"
    },
    "papermill": {
     "duration": 0.026766,
     "end_time": "2022-12-20T09:54:14.836696",
     "exception": false,
     "start_time": "2022-12-20T09:54:14.809930",
     "status": "completed"
    },
    "tags": []
   },
   "outputs": [],
   "source": [
    "housing_data = housing_data.drop(housing_data.loc[housing_data['median_house_value'] == 500001].index)"
   ]
  },
  {
   "cell_type": "code",
   "execution_count": 8,
   "id": "c2ba1348",
   "metadata": {
    "execution": {
     "iopub.execute_input": "2022-12-20T09:54:14.857221Z",
     "iopub.status.busy": "2022-12-20T09:54:14.856359Z",
     "iopub.status.idle": "2022-12-20T09:54:14.863173Z",
     "shell.execute_reply": "2022-12-20T09:54:14.861893Z"
    },
    "papermill": {
     "duration": 0.019765,
     "end_time": "2022-12-20T09:54:14.865616",
     "exception": false,
     "start_time": "2022-12-20T09:54:14.845851",
     "status": "completed"
    },
    "tags": []
   },
   "outputs": [
    {
     "data": {
      "text/plain": [
       "(19475, 10)"
      ]
     },
     "execution_count": 8,
     "metadata": {},
     "output_type": "execute_result"
    }
   ],
   "source": [
    "housing_data.shape"
   ]
  },
  {
   "cell_type": "code",
   "execution_count": 9,
   "id": "9cbd6485",
   "metadata": {
    "execution": {
     "iopub.execute_input": "2022-12-20T09:54:14.886268Z",
     "iopub.status.busy": "2022-12-20T09:54:14.885535Z",
     "iopub.status.idle": "2022-12-20T09:54:14.905424Z",
     "shell.execute_reply": "2022-12-20T09:54:14.904518Z"
    },
    "papermill": {
     "duration": 0.03303,
     "end_time": "2022-12-20T09:54:14.908221",
     "exception": false,
     "start_time": "2022-12-20T09:54:14.875191",
     "status": "completed"
    },
    "tags": []
   },
   "outputs": [
    {
     "data": {
      "text/html": [
       "<div>\n",
       "<style scoped>\n",
       "    .dataframe tbody tr th:only-of-type {\n",
       "        vertical-align: middle;\n",
       "    }\n",
       "\n",
       "    .dataframe tbody tr th {\n",
       "        vertical-align: top;\n",
       "    }\n",
       "\n",
       "    .dataframe thead th {\n",
       "        text-align: right;\n",
       "    }\n",
       "</style>\n",
       "<table border=\"1\" class=\"dataframe\">\n",
       "  <thead>\n",
       "    <tr style=\"text-align: right;\">\n",
       "      <th></th>\n",
       "      <th>longitude</th>\n",
       "      <th>latitude</th>\n",
       "      <th>housing_median_age</th>\n",
       "      <th>total_rooms</th>\n",
       "      <th>total_bedrooms</th>\n",
       "      <th>population</th>\n",
       "      <th>households</th>\n",
       "      <th>median_income</th>\n",
       "      <th>median_house_value</th>\n",
       "      <th>ocean_proximity</th>\n",
       "    </tr>\n",
       "  </thead>\n",
       "  <tbody>\n",
       "    <tr>\n",
       "      <th>0</th>\n",
       "      <td>-122.23</td>\n",
       "      <td>37.88</td>\n",
       "      <td>41.0</td>\n",
       "      <td>880.0</td>\n",
       "      <td>129.0</td>\n",
       "      <td>322.0</td>\n",
       "      <td>126.0</td>\n",
       "      <td>8.3252</td>\n",
       "      <td>452600.0</td>\n",
       "      <td>NEAR BAY</td>\n",
       "    </tr>\n",
       "    <tr>\n",
       "      <th>1</th>\n",
       "      <td>-122.22</td>\n",
       "      <td>37.86</td>\n",
       "      <td>21.0</td>\n",
       "      <td>7099.0</td>\n",
       "      <td>1106.0</td>\n",
       "      <td>2401.0</td>\n",
       "      <td>1138.0</td>\n",
       "      <td>8.3014</td>\n",
       "      <td>358500.0</td>\n",
       "      <td>NEAR BAY</td>\n",
       "    </tr>\n",
       "    <tr>\n",
       "      <th>2</th>\n",
       "      <td>-122.24</td>\n",
       "      <td>37.85</td>\n",
       "      <td>52.0</td>\n",
       "      <td>1467.0</td>\n",
       "      <td>190.0</td>\n",
       "      <td>496.0</td>\n",
       "      <td>177.0</td>\n",
       "      <td>7.2574</td>\n",
       "      <td>352100.0</td>\n",
       "      <td>NEAR BAY</td>\n",
       "    </tr>\n",
       "    <tr>\n",
       "      <th>3</th>\n",
       "      <td>-122.25</td>\n",
       "      <td>37.85</td>\n",
       "      <td>52.0</td>\n",
       "      <td>1274.0</td>\n",
       "      <td>235.0</td>\n",
       "      <td>558.0</td>\n",
       "      <td>219.0</td>\n",
       "      <td>5.6431</td>\n",
       "      <td>341300.0</td>\n",
       "      <td>NEAR BAY</td>\n",
       "    </tr>\n",
       "    <tr>\n",
       "      <th>4</th>\n",
       "      <td>-122.25</td>\n",
       "      <td>37.85</td>\n",
       "      <td>52.0</td>\n",
       "      <td>1627.0</td>\n",
       "      <td>280.0</td>\n",
       "      <td>565.0</td>\n",
       "      <td>259.0</td>\n",
       "      <td>3.8462</td>\n",
       "      <td>342200.0</td>\n",
       "      <td>NEAR BAY</td>\n",
       "    </tr>\n",
       "  </tbody>\n",
       "</table>\n",
       "</div>"
      ],
      "text/plain": [
       "   longitude  latitude  housing_median_age  total_rooms  total_bedrooms  \\\n",
       "0    -122.23     37.88                41.0        880.0           129.0   \n",
       "1    -122.22     37.86                21.0       7099.0          1106.0   \n",
       "2    -122.24     37.85                52.0       1467.0           190.0   \n",
       "3    -122.25     37.85                52.0       1274.0           235.0   \n",
       "4    -122.25     37.85                52.0       1627.0           280.0   \n",
       "\n",
       "   population  households  median_income  median_house_value ocean_proximity  \n",
       "0       322.0       126.0         8.3252            452600.0        NEAR BAY  \n",
       "1      2401.0      1138.0         8.3014            358500.0        NEAR BAY  \n",
       "2       496.0       177.0         7.2574            352100.0        NEAR BAY  \n",
       "3       558.0       219.0         5.6431            341300.0        NEAR BAY  \n",
       "4       565.0       259.0         3.8462            342200.0        NEAR BAY  "
      ]
     },
     "execution_count": 9,
     "metadata": {},
     "output_type": "execute_result"
    }
   ],
   "source": [
    "housing_data.head()"
   ]
  },
  {
   "cell_type": "code",
   "execution_count": 10,
   "id": "66ae22b2",
   "metadata": {
    "execution": {
     "iopub.execute_input": "2022-12-20T09:54:14.928350Z",
     "iopub.status.busy": "2022-12-20T09:54:14.927538Z",
     "iopub.status.idle": "2022-12-20T09:54:14.936967Z",
     "shell.execute_reply": "2022-12-20T09:54:14.935664Z"
    },
    "papermill": {
     "duration": 0.022828,
     "end_time": "2022-12-20T09:54:14.939894",
     "exception": false,
     "start_time": "2022-12-20T09:54:14.917066",
     "status": "completed"
    },
    "tags": []
   },
   "outputs": [
    {
     "data": {
      "text/plain": [
       "array(['NEAR BAY', '<1H OCEAN', 'INLAND', 'NEAR OCEAN', 'ISLAND'],\n",
       "      dtype=object)"
      ]
     },
     "execution_count": 10,
     "metadata": {},
     "output_type": "execute_result"
    }
   ],
   "source": [
    "housing_data.ocean_proximity.unique()"
   ]
  },
  {
   "cell_type": "code",
   "execution_count": 11,
   "id": "98057c8f",
   "metadata": {
    "execution": {
     "iopub.execute_input": "2022-12-20T09:54:14.961305Z",
     "iopub.status.busy": "2022-12-20T09:54:14.960414Z",
     "iopub.status.idle": "2022-12-20T09:54:14.974320Z",
     "shell.execute_reply": "2022-12-20T09:54:14.973162Z"
    },
    "papermill": {
     "duration": 0.027878,
     "end_time": "2022-12-20T09:54:14.977034",
     "exception": false,
     "start_time": "2022-12-20T09:54:14.949156",
     "status": "completed"
    },
    "tags": []
   },
   "outputs": [],
   "source": [
    "housing_data = pd.get_dummies(housing_data,columns=['ocean_proximity'])"
   ]
  },
  {
   "cell_type": "code",
   "execution_count": 12,
   "id": "0f8d8d9e",
   "metadata": {
    "execution": {
     "iopub.execute_input": "2022-12-20T09:54:14.997394Z",
     "iopub.status.busy": "2022-12-20T09:54:14.996734Z",
     "iopub.status.idle": "2022-12-20T09:54:15.004060Z",
     "shell.execute_reply": "2022-12-20T09:54:15.002812Z"
    },
    "papermill": {
     "duration": 0.020379,
     "end_time": "2022-12-20T09:54:15.006397",
     "exception": false,
     "start_time": "2022-12-20T09:54:14.986018",
     "status": "completed"
    },
    "tags": []
   },
   "outputs": [
    {
     "data": {
      "text/plain": [
       "(19475, 14)"
      ]
     },
     "execution_count": 12,
     "metadata": {},
     "output_type": "execute_result"
    }
   ],
   "source": [
    "housing_data.shape"
   ]
  },
  {
   "cell_type": "code",
   "execution_count": 13,
   "id": "14c29d51",
   "metadata": {
    "execution": {
     "iopub.execute_input": "2022-12-20T09:54:15.026818Z",
     "iopub.status.busy": "2022-12-20T09:54:15.026162Z",
     "iopub.status.idle": "2022-12-20T09:54:15.047471Z",
     "shell.execute_reply": "2022-12-20T09:54:15.046307Z"
    },
    "papermill": {
     "duration": 0.034825,
     "end_time": "2022-12-20T09:54:15.049989",
     "exception": false,
     "start_time": "2022-12-20T09:54:15.015164",
     "status": "completed"
    },
    "tags": []
   },
   "outputs": [
    {
     "data": {
      "text/html": [
       "<div>\n",
       "<style scoped>\n",
       "    .dataframe tbody tr th:only-of-type {\n",
       "        vertical-align: middle;\n",
       "    }\n",
       "\n",
       "    .dataframe tbody tr th {\n",
       "        vertical-align: top;\n",
       "    }\n",
       "\n",
       "    .dataframe thead th {\n",
       "        text-align: right;\n",
       "    }\n",
       "</style>\n",
       "<table border=\"1\" class=\"dataframe\">\n",
       "  <thead>\n",
       "    <tr style=\"text-align: right;\">\n",
       "      <th></th>\n",
       "      <th>longitude</th>\n",
       "      <th>latitude</th>\n",
       "      <th>housing_median_age</th>\n",
       "      <th>total_rooms</th>\n",
       "      <th>total_bedrooms</th>\n",
       "      <th>population</th>\n",
       "      <th>households</th>\n",
       "      <th>median_income</th>\n",
       "      <th>median_house_value</th>\n",
       "      <th>ocean_proximity_&lt;1H OCEAN</th>\n",
       "      <th>ocean_proximity_INLAND</th>\n",
       "      <th>ocean_proximity_ISLAND</th>\n",
       "      <th>ocean_proximity_NEAR BAY</th>\n",
       "      <th>ocean_proximity_NEAR OCEAN</th>\n",
       "    </tr>\n",
       "  </thead>\n",
       "  <tbody>\n",
       "    <tr>\n",
       "      <th>14620</th>\n",
       "      <td>-117.16</td>\n",
       "      <td>32.79</td>\n",
       "      <td>32.0</td>\n",
       "      <td>1731.0</td>\n",
       "      <td>413.0</td>\n",
       "      <td>1569.0</td>\n",
       "      <td>427.0</td>\n",
       "      <td>3.3375</td>\n",
       "      <td>154300.0</td>\n",
       "      <td>0</td>\n",
       "      <td>0</td>\n",
       "      <td>0</td>\n",
       "      <td>0</td>\n",
       "      <td>1</td>\n",
       "    </tr>\n",
       "    <tr>\n",
       "      <th>6136</th>\n",
       "      <td>-117.99</td>\n",
       "      <td>34.08</td>\n",
       "      <td>35.0</td>\n",
       "      <td>1032.0</td>\n",
       "      <td>207.0</td>\n",
       "      <td>954.0</td>\n",
       "      <td>191.0</td>\n",
       "      <td>2.8906</td>\n",
       "      <td>134800.0</td>\n",
       "      <td>0</td>\n",
       "      <td>1</td>\n",
       "      <td>0</td>\n",
       "      <td>0</td>\n",
       "      <td>0</td>\n",
       "    </tr>\n",
       "    <tr>\n",
       "      <th>20485</th>\n",
       "      <td>-118.67</td>\n",
       "      <td>34.28</td>\n",
       "      <td>21.0</td>\n",
       "      <td>4059.0</td>\n",
       "      <td>598.0</td>\n",
       "      <td>2133.0</td>\n",
       "      <td>634.0</td>\n",
       "      <td>5.6949</td>\n",
       "      <td>235300.0</td>\n",
       "      <td>1</td>\n",
       "      <td>0</td>\n",
       "      <td>0</td>\n",
       "      <td>0</td>\n",
       "      <td>0</td>\n",
       "    </tr>\n",
       "    <tr>\n",
       "      <th>8080</th>\n",
       "      <td>-118.19</td>\n",
       "      <td>33.82</td>\n",
       "      <td>11.0</td>\n",
       "      <td>872.0</td>\n",
       "      <td>203.0</td>\n",
       "      <td>422.0</td>\n",
       "      <td>221.0</td>\n",
       "      <td>4.6364</td>\n",
       "      <td>156300.0</td>\n",
       "      <td>0</td>\n",
       "      <td>0</td>\n",
       "      <td>0</td>\n",
       "      <td>0</td>\n",
       "      <td>1</td>\n",
       "    </tr>\n",
       "    <tr>\n",
       "      <th>3926</th>\n",
       "      <td>-118.54</td>\n",
       "      <td>34.19</td>\n",
       "      <td>22.0</td>\n",
       "      <td>3380.0</td>\n",
       "      <td>790.0</td>\n",
       "      <td>2199.0</td>\n",
       "      <td>737.0</td>\n",
       "      <td>2.5739</td>\n",
       "      <td>239200.0</td>\n",
       "      <td>1</td>\n",
       "      <td>0</td>\n",
       "      <td>0</td>\n",
       "      <td>0</td>\n",
       "      <td>0</td>\n",
       "    </tr>\n",
       "  </tbody>\n",
       "</table>\n",
       "</div>"
      ],
      "text/plain": [
       "       longitude  latitude  housing_median_age  total_rooms  total_bedrooms  \\\n",
       "14620    -117.16     32.79                32.0       1731.0           413.0   \n",
       "6136     -117.99     34.08                35.0       1032.0           207.0   \n",
       "20485    -118.67     34.28                21.0       4059.0           598.0   \n",
       "8080     -118.19     33.82                11.0        872.0           203.0   \n",
       "3926     -118.54     34.19                22.0       3380.0           790.0   \n",
       "\n",
       "       population  households  median_income  median_house_value  \\\n",
       "14620      1569.0       427.0         3.3375            154300.0   \n",
       "6136        954.0       191.0         2.8906            134800.0   \n",
       "20485      2133.0       634.0         5.6949            235300.0   \n",
       "8080        422.0       221.0         4.6364            156300.0   \n",
       "3926       2199.0       737.0         2.5739            239200.0   \n",
       "\n",
       "       ocean_proximity_<1H OCEAN  ocean_proximity_INLAND  \\\n",
       "14620                          0                       0   \n",
       "6136                           0                       1   \n",
       "20485                          1                       0   \n",
       "8080                           0                       0   \n",
       "3926                           1                       0   \n",
       "\n",
       "       ocean_proximity_ISLAND  ocean_proximity_NEAR BAY  \\\n",
       "14620                       0                         0   \n",
       "6136                        0                         0   \n",
       "20485                       0                         0   \n",
       "8080                        0                         0   \n",
       "3926                        0                         0   \n",
       "\n",
       "       ocean_proximity_NEAR OCEAN  \n",
       "14620                           1  \n",
       "6136                            0  \n",
       "20485                           0  \n",
       "8080                            1  \n",
       "3926                            0  "
      ]
     },
     "execution_count": 13,
     "metadata": {},
     "output_type": "execute_result"
    }
   ],
   "source": [
    "housing_data.sample(5)"
   ]
  },
  {
   "cell_type": "code",
   "execution_count": 14,
   "id": "09f203ae",
   "metadata": {
    "execution": {
     "iopub.execute_input": "2022-12-20T09:54:15.072200Z",
     "iopub.status.busy": "2022-12-20T09:54:15.071528Z",
     "iopub.status.idle": "2022-12-20T09:54:15.078265Z",
     "shell.execute_reply": "2022-12-20T09:54:15.076988Z"
    },
    "papermill": {
     "duration": 0.021609,
     "end_time": "2022-12-20T09:54:15.081327",
     "exception": false,
     "start_time": "2022-12-20T09:54:15.059718",
     "status": "completed"
    },
    "tags": []
   },
   "outputs": [],
   "source": [
    "X = housing_data.drop(['median_house_value'],axis=1)\n",
    "Y = housing_data.median_house_value"
   ]
  },
  {
   "cell_type": "code",
   "execution_count": 15,
   "id": "a7c3b3d3",
   "metadata": {
    "execution": {
     "iopub.execute_input": "2022-12-20T09:54:15.102810Z",
     "iopub.status.busy": "2022-12-20T09:54:15.102233Z",
     "iopub.status.idle": "2022-12-20T09:54:15.109251Z",
     "shell.execute_reply": "2022-12-20T09:54:15.108314Z"
    },
    "papermill": {
     "duration": 0.020648,
     "end_time": "2022-12-20T09:54:15.111752",
     "exception": false,
     "start_time": "2022-12-20T09:54:15.091104",
     "status": "completed"
    },
    "tags": []
   },
   "outputs": [
    {
     "data": {
      "text/plain": [
       "Index(['longitude', 'latitude', 'housing_median_age', 'total_rooms',\n",
       "       'total_bedrooms', 'population', 'households', 'median_income',\n",
       "       'ocean_proximity_<1H OCEAN', 'ocean_proximity_INLAND',\n",
       "       'ocean_proximity_ISLAND', 'ocean_proximity_NEAR BAY',\n",
       "       'ocean_proximity_NEAR OCEAN'],\n",
       "      dtype='object')"
      ]
     },
     "execution_count": 15,
     "metadata": {},
     "output_type": "execute_result"
    }
   ],
   "source": [
    "X.columns"
   ]
  },
  {
   "cell_type": "code",
   "execution_count": 16,
   "id": "a6985b21",
   "metadata": {
    "execution": {
     "iopub.execute_input": "2022-12-20T09:54:15.134848Z",
     "iopub.status.busy": "2022-12-20T09:54:15.133950Z",
     "iopub.status.idle": "2022-12-20T09:54:16.230089Z",
     "shell.execute_reply": "2022-12-20T09:54:16.228537Z"
    },
    "papermill": {
     "duration": 1.111387,
     "end_time": "2022-12-20T09:54:16.233063",
     "exception": false,
     "start_time": "2022-12-20T09:54:15.121676",
     "status": "completed"
    },
    "tags": []
   },
   "outputs": [],
   "source": [
    "from sklearn.model_selection import train_test_split\n",
    "x_train,x_test,y_train,y_test = train_test_split(X,Y,test_size = 0.2)"
   ]
  },
  {
   "cell_type": "code",
   "execution_count": 17,
   "id": "4d1f9be2",
   "metadata": {
    "execution": {
     "iopub.execute_input": "2022-12-20T09:54:16.254508Z",
     "iopub.status.busy": "2022-12-20T09:54:16.254079Z",
     "iopub.status.idle": "2022-12-20T09:54:16.262260Z",
     "shell.execute_reply": "2022-12-20T09:54:16.260678Z"
    },
    "papermill": {
     "duration": 0.022487,
     "end_time": "2022-12-20T09:54:16.265261",
     "exception": false,
     "start_time": "2022-12-20T09:54:16.242774",
     "status": "completed"
    },
    "tags": []
   },
   "outputs": [
    {
     "data": {
      "text/plain": [
       "((15580, 13), (3895, 13))"
      ]
     },
     "execution_count": 17,
     "metadata": {},
     "output_type": "execute_result"
    }
   ],
   "source": [
    "x_train.shape,x_test.shape"
   ]
  },
  {
   "cell_type": "code",
   "execution_count": 18,
   "id": "de8cc209",
   "metadata": {
    "execution": {
     "iopub.execute_input": "2022-12-20T09:54:16.288754Z",
     "iopub.status.busy": "2022-12-20T09:54:16.288194Z",
     "iopub.status.idle": "2022-12-20T09:54:16.297139Z",
     "shell.execute_reply": "2022-12-20T09:54:16.295853Z"
    },
    "papermill": {
     "duration": 0.024417,
     "end_time": "2022-12-20T09:54:16.300115",
     "exception": false,
     "start_time": "2022-12-20T09:54:16.275698",
     "status": "completed"
    },
    "tags": []
   },
   "outputs": [
    {
     "data": {
      "text/plain": [
       "((15580,), (3895,))"
      ]
     },
     "execution_count": 18,
     "metadata": {},
     "output_type": "execute_result"
    }
   ],
   "source": [
    "y_train.shape,y_test.shape\n"
   ]
  },
  {
   "cell_type": "code",
   "execution_count": 19,
   "id": "367a7372",
   "metadata": {
    "execution": {
     "iopub.execute_input": "2022-12-20T09:54:16.322554Z",
     "iopub.status.busy": "2022-12-20T09:54:16.322153Z",
     "iopub.status.idle": "2022-12-20T09:54:16.453637Z",
     "shell.execute_reply": "2022-12-20T09:54:16.451669Z"
    },
    "papermill": {
     "duration": 0.148285,
     "end_time": "2022-12-20T09:54:16.459462",
     "exception": false,
     "start_time": "2022-12-20T09:54:16.311177",
     "status": "completed"
    },
    "tags": []
   },
   "outputs": [
    {
     "name": "stderr",
     "output_type": "stream",
     "text": [
      "/opt/conda/lib/python3.7/site-packages/sklearn/linear_model/_base.py:145: FutureWarning: 'normalize' was deprecated in version 1.0 and will be removed in 1.2.\n",
      "If you wish to scale the data, use Pipeline with a StandardScaler in a preprocessing stage. To reproduce the previous behavior:\n",
      "\n",
      "from sklearn.pipeline import make_pipeline\n",
      "\n",
      "model = make_pipeline(StandardScaler(with_mean=False), LinearRegression())\n",
      "\n",
      "If you wish to pass a sample_weight parameter, you need to pass it as a fit parameter to each step of the pipeline as follows:\n",
      "\n",
      "kwargs = {s[0] + '__sample_weight': sample_weight for s in model.steps}\n",
      "model.fit(X, y, **kwargs)\n",
      "\n",
      "\n",
      "  FutureWarning,\n"
     ]
    }
   ],
   "source": [
    "from sklearn.linear_model import LinearRegression\n",
    "linear_model = LinearRegression(normalize = True).fit(x_train,y_train)"
   ]
  },
  {
   "cell_type": "code",
   "execution_count": 20,
   "id": "d5c8f01e",
   "metadata": {
    "execution": {
     "iopub.execute_input": "2022-12-20T09:54:16.515323Z",
     "iopub.status.busy": "2022-12-20T09:54:16.514519Z",
     "iopub.status.idle": "2022-12-20T09:54:16.538402Z",
     "shell.execute_reply": "2022-12-20T09:54:16.536616Z"
    },
    "papermill": {
     "duration": 0.056733,
     "end_time": "2022-12-20T09:54:16.543943",
     "exception": false,
     "start_time": "2022-12-20T09:54:16.487210",
     "status": "completed"
    },
    "tags": []
   },
   "outputs": [
    {
     "name": "stdout",
     "output_type": "stream",
     "text": [
      "Training Score :  0.6114626315037446\n"
     ]
    }
   ],
   "source": [
    "print(\"Training Score : \",linear_model.score(x_train,y_train))"
   ]
  },
  {
   "cell_type": "code",
   "execution_count": 21,
   "id": "dbbed942",
   "metadata": {
    "execution": {
     "iopub.execute_input": "2022-12-20T09:54:16.606269Z",
     "iopub.status.busy": "2022-12-20T09:54:16.604773Z",
     "iopub.status.idle": "2022-12-20T09:54:16.627054Z",
     "shell.execute_reply": "2022-12-20T09:54:16.625240Z"
    },
    "papermill": {
     "duration": 0.054946,
     "end_time": "2022-12-20T09:54:16.632939",
     "exception": false,
     "start_time": "2022-12-20T09:54:16.577993",
     "status": "completed"
    },
    "tags": []
   },
   "outputs": [
    {
     "data": {
      "text/plain": [
       "Index(['longitude', 'latitude', 'housing_median_age', 'total_rooms',\n",
       "       'total_bedrooms', 'population', 'households', 'median_income',\n",
       "       'ocean_proximity_<1H OCEAN', 'ocean_proximity_INLAND',\n",
       "       'ocean_proximity_ISLAND', 'ocean_proximity_NEAR BAY',\n",
       "       'ocean_proximity_NEAR OCEAN'],\n",
       "      dtype='object')"
      ]
     },
     "execution_count": 21,
     "metadata": {},
     "output_type": "execute_result"
    }
   ],
   "source": [
    "predictors = x_train.columns\n",
    "predictors"
   ]
  },
  {
   "cell_type": "code",
   "execution_count": 22,
   "id": "fffb4b4b",
   "metadata": {
    "execution": {
     "iopub.execute_input": "2022-12-20T09:54:16.665505Z",
     "iopub.status.busy": "2022-12-20T09:54:16.665093Z",
     "iopub.status.idle": "2022-12-20T09:54:16.673778Z",
     "shell.execute_reply": "2022-12-20T09:54:16.672461Z"
    },
    "papermill": {
     "duration": 0.022507,
     "end_time": "2022-12-20T09:54:16.676746",
     "exception": false,
     "start_time": "2022-12-20T09:54:16.654239",
     "status": "completed"
    },
    "tags": []
   },
   "outputs": [
    {
     "name": "stdout",
     "output_type": "stream",
     "text": [
      "ocean_proximity_INLAND        -25512.723795\n",
      "longitude                     -24302.417430\n",
      "latitude                      -22277.837593\n",
      "population                       -29.376839\n",
      "total_rooms                       -7.720142\n",
      "households                        40.496758\n",
      "total_bedrooms                    94.188268\n",
      "housing_median_age               941.479176\n",
      "ocean_proximity_NEAR BAY        6028.327164\n",
      "ocean_proximity_<1H OCEAN      12846.494957\n",
      "ocean_proximity_NEAR OCEAN     17316.261267\n",
      "median_income                  38935.318531\n",
      "ocean_proximity_ISLAND        240039.772053\n",
      "dtype: float64\n"
     ]
    }
   ],
   "source": [
    "coef = pd.Series(linear_model.coef_, predictors).sort_values()\n",
    "print(coef)"
   ]
  },
  {
   "cell_type": "code",
   "execution_count": 23,
   "id": "00931276",
   "metadata": {
    "execution": {
     "iopub.execute_input": "2022-12-20T09:54:16.699628Z",
     "iopub.status.busy": "2022-12-20T09:54:16.699175Z",
     "iopub.status.idle": "2022-12-20T09:54:16.711408Z",
     "shell.execute_reply": "2022-12-20T09:54:16.708802Z"
    },
    "papermill": {
     "duration": 0.035395,
     "end_time": "2022-12-20T09:54:16.722047",
     "exception": false,
     "start_time": "2022-12-20T09:54:16.686652",
     "status": "completed"
    },
    "tags": []
   },
   "outputs": [],
   "source": [
    "y_pred = linear_model.predict(x_test)"
   ]
  },
  {
   "cell_type": "code",
   "execution_count": 24,
   "id": "5619bac9",
   "metadata": {
    "execution": {
     "iopub.execute_input": "2022-12-20T09:54:16.781355Z",
     "iopub.status.busy": "2022-12-20T09:54:16.780560Z",
     "iopub.status.idle": "2022-12-20T09:54:16.791305Z",
     "shell.execute_reply": "2022-12-20T09:54:16.789289Z"
    },
    "papermill": {
     "duration": 0.059767,
     "end_time": "2022-12-20T09:54:16.810767",
     "exception": false,
     "start_time": "2022-12-20T09:54:16.751000",
     "status": "completed"
    },
    "tags": []
   },
   "outputs": [],
   "source": [
    "df_pred_actual = pd.DataFrame({'predicted' : y_pred , 'actual': y_test})"
   ]
  },
  {
   "cell_type": "code",
   "execution_count": 25,
   "id": "6b9a5dec",
   "metadata": {
    "execution": {
     "iopub.execute_input": "2022-12-20T09:54:16.848892Z",
     "iopub.status.busy": "2022-12-20T09:54:16.848453Z",
     "iopub.status.idle": "2022-12-20T09:54:16.863226Z",
     "shell.execute_reply": "2022-12-20T09:54:16.861766Z"
    },
    "papermill": {
     "duration": 0.032619,
     "end_time": "2022-12-20T09:54:16.866934",
     "exception": false,
     "start_time": "2022-12-20T09:54:16.834315",
     "status": "completed"
    },
    "tags": []
   },
   "outputs": [
    {
     "data": {
      "text/html": [
       "<div>\n",
       "<style scoped>\n",
       "    .dataframe tbody tr th:only-of-type {\n",
       "        vertical-align: middle;\n",
       "    }\n",
       "\n",
       "    .dataframe tbody tr th {\n",
       "        vertical-align: top;\n",
       "    }\n",
       "\n",
       "    .dataframe thead th {\n",
       "        text-align: right;\n",
       "    }\n",
       "</style>\n",
       "<table border=\"1\" class=\"dataframe\">\n",
       "  <thead>\n",
       "    <tr style=\"text-align: right;\">\n",
       "      <th></th>\n",
       "      <th>predicted</th>\n",
       "      <th>actual</th>\n",
       "    </tr>\n",
       "  </thead>\n",
       "  <tbody>\n",
       "    <tr>\n",
       "      <th>13901</th>\n",
       "      <td>122815.826330</td>\n",
       "      <td>69600.0</td>\n",
       "    </tr>\n",
       "    <tr>\n",
       "      <th>12500</th>\n",
       "      <td>148597.118219</td>\n",
       "      <td>213200.0</td>\n",
       "    </tr>\n",
       "    <tr>\n",
       "      <th>19411</th>\n",
       "      <td>217898.792458</td>\n",
       "      <td>248600.0</td>\n",
       "    </tr>\n",
       "    <tr>\n",
       "      <th>7736</th>\n",
       "      <td>163707.719978</td>\n",
       "      <td>195800.0</td>\n",
       "    </tr>\n",
       "    <tr>\n",
       "      <th>19509</th>\n",
       "      <td>100154.041147</td>\n",
       "      <td>88300.0</td>\n",
       "    </tr>\n",
       "  </tbody>\n",
       "</table>\n",
       "</div>"
      ],
      "text/plain": [
       "           predicted    actual\n",
       "13901  122815.826330   69600.0\n",
       "12500  148597.118219  213200.0\n",
       "19411  217898.792458  248600.0\n",
       "7736   163707.719978  195800.0\n",
       "19509  100154.041147   88300.0"
      ]
     },
     "execution_count": 25,
     "metadata": {},
     "output_type": "execute_result"
    }
   ],
   "source": [
    "df_pred_actual.head()"
   ]
  },
  {
   "cell_type": "code",
   "execution_count": 26,
   "id": "4bea8635",
   "metadata": {
    "execution": {
     "iopub.execute_input": "2022-12-20T09:54:16.891957Z",
     "iopub.status.busy": "2022-12-20T09:54:16.890506Z",
     "iopub.status.idle": "2022-12-20T09:54:16.899375Z",
     "shell.execute_reply": "2022-12-20T09:54:16.897886Z"
    },
    "papermill": {
     "duration": 0.024013,
     "end_time": "2022-12-20T09:54:16.902695",
     "exception": false,
     "start_time": "2022-12-20T09:54:16.878682",
     "status": "completed"
    },
    "tags": []
   },
   "outputs": [
    {
     "name": "stdout",
     "output_type": "stream",
     "text": [
      "Testing score :  0.6184439427864996\n"
     ]
    }
   ],
   "source": [
    "from sklearn.metrics import r2_score\n",
    "print(\"Testing score : \",r2_score(y_test,y_pred))"
   ]
  },
  {
   "cell_type": "code",
   "execution_count": 27,
   "id": "4477c7e4",
   "metadata": {
    "execution": {
     "iopub.execute_input": "2022-12-20T09:54:16.930328Z",
     "iopub.status.busy": "2022-12-20T09:54:16.929649Z",
     "iopub.status.idle": "2022-12-20T09:54:17.223354Z",
     "shell.execute_reply": "2022-12-20T09:54:17.221887Z"
    },
    "papermill": {
     "duration": 0.31167,
     "end_time": "2022-12-20T09:54:17.226302",
     "exception": false,
     "start_time": "2022-12-20T09:54:16.914632",
     "status": "completed"
    },
    "tags": []
   },
   "outputs": [
    {
     "data": {
      "image/png": "[encoded data removed]",
      "text/plain": [
       "<Figure size 864x576 with 1 Axes>"
      ]
     },
     "metadata": {
      "needs_background": "light"
     },
     "output_type": "display_data"
    }
   ],
   "source": [
    "fig, ax = plt.subplots(figsize=(12,8))\n",
    "plt.scatter(y_test,y_pred)\n",
    "plt.show()"
   ]
  },
  {
   "cell_type": "code",
   "execution_count": 28,
   "id": "410fa1a9",
   "metadata": {
    "execution": {
     "iopub.execute_input": "2022-12-20T09:54:17.251530Z",
     "iopub.status.busy": "2022-12-20T09:54:17.251105Z",
     "iopub.status.idle": "2022-12-20T09:54:17.259364Z",
     "shell.execute_reply": "2022-12-20T09:54:17.257865Z"
    },
    "papermill": {
     "duration": 0.024788,
     "end_time": "2022-12-20T09:54:17.262959",
     "exception": false,
     "start_time": "2022-12-20T09:54:17.238171",
     "status": "completed"
    },
    "tags": []
   },
   "outputs": [],
   "source": [
    "df_pred_actual_sample = df_pred_actual.sample(100)\n",
    "df_pred_actual_sample = df_pred_actual_sample.reset_index()"
   ]
  },
  {
   "cell_type": "code",
   "execution_count": 29,
   "id": "1ac86f0e",
   "metadata": {
    "execution": {
     "iopub.execute_input": "2022-12-20T09:54:17.287751Z",
     "iopub.status.busy": "2022-12-20T09:54:17.287313Z",
     "iopub.status.idle": "2022-12-20T09:54:17.301033Z",
     "shell.execute_reply": "2022-12-20T09:54:17.299425Z"
    },
    "papermill": {
     "duration": 0.029888,
     "end_time": "2022-12-20T09:54:17.304052",
     "exception": false,
     "start_time": "2022-12-20T09:54:17.274164",
     "status": "completed"
    },
    "tags": []
   },
   "outputs": [
    {
     "data": {
      "text/html": [
       "<div>\n",
       "<style scoped>\n",
       "    .dataframe tbody tr th:only-of-type {\n",
       "        vertical-align: middle;\n",
       "    }\n",
       "\n",
       "    .dataframe tbody tr th {\n",
       "        vertical-align: top;\n",
       "    }\n",
       "\n",
       "    .dataframe thead th {\n",
       "        text-align: right;\n",
       "    }\n",
       "</style>\n",
       "<table border=\"1\" class=\"dataframe\">\n",
       "  <thead>\n",
       "    <tr style=\"text-align: right;\">\n",
       "      <th></th>\n",
       "      <th>index</th>\n",
       "      <th>predicted</th>\n",
       "      <th>actual</th>\n",
       "    </tr>\n",
       "  </thead>\n",
       "  <tbody>\n",
       "    <tr>\n",
       "      <th>0</th>\n",
       "      <td>6132</td>\n",
       "      <td>121279.651126</td>\n",
       "      <td>152500.0</td>\n",
       "    </tr>\n",
       "    <tr>\n",
       "      <th>1</th>\n",
       "      <td>16423</td>\n",
       "      <td>83168.916597</td>\n",
       "      <td>162500.0</td>\n",
       "    </tr>\n",
       "    <tr>\n",
       "      <th>2</th>\n",
       "      <td>12582</td>\n",
       "      <td>120457.474084</td>\n",
       "      <td>72100.0</td>\n",
       "    </tr>\n",
       "    <tr>\n",
       "      <th>3</th>\n",
       "      <td>13191</td>\n",
       "      <td>189322.908625</td>\n",
       "      <td>142500.0</td>\n",
       "    </tr>\n",
       "    <tr>\n",
       "      <th>4</th>\n",
       "      <td>764</td>\n",
       "      <td>218986.544667</td>\n",
       "      <td>149700.0</td>\n",
       "    </tr>\n",
       "  </tbody>\n",
       "</table>\n",
       "</div>"
      ],
      "text/plain": [
       "   index      predicted    actual\n",
       "0   6132  121279.651126  152500.0\n",
       "1  16423   83168.916597  162500.0\n",
       "2  12582  120457.474084   72100.0\n",
       "3  13191  189322.908625  142500.0\n",
       "4    764  218986.544667  149700.0"
      ]
     },
     "execution_count": 29,
     "metadata": {},
     "output_type": "execute_result"
    }
   ],
   "source": [
    "df_pred_actual_sample.head()"
   ]
  },
  {
   "cell_type": "code",
   "execution_count": 30,
   "id": "7127f521",
   "metadata": {
    "execution": {
     "iopub.execute_input": "2022-12-20T09:54:17.332860Z",
     "iopub.status.busy": "2022-12-20T09:54:17.332336Z",
     "iopub.status.idle": "2022-12-20T09:54:17.650277Z",
     "shell.execute_reply": "2022-12-20T09:54:17.648890Z"
    },
    "papermill": {
     "duration": 0.33719,
     "end_time": "2022-12-20T09:54:17.653874",
     "exception": false,
     "start_time": "2022-12-20T09:54:17.316684",
     "status": "completed"
    },
    "tags": []
   },
   "outputs": [
    {
     "data": {
      "image/png": "[encoded data removed]",
      "text/plain": [
       "<Figure size 1440x720 with 1 Axes>"
      ]
     },
     "metadata": {
      "needs_background": "light"
     },
     "output_type": "display_data"
    }
   ],
   "source": [
    "plt.figure(figsize=(20,10))\n",
    "\n",
    "plt.plot(df_pred_actual_sample.predicted,label = 'Predicted')\n",
    "plt.plot(df_pred_actual_sample.actual,label = 'Actual')\n",
    "\n",
    "plt.ylabel('Median House Value')\n",
    "\n",
    "plt.legend()\n",
    "plt.show()"
   ]
  },
  {
   "cell_type": "code",
   "execution_count": null,
   "id": "c16e09c7",
   "metadata": {
    "papermill": {
     "duration": 0.01261,
     "end_time": "2022-12-20T09:54:17.679536",
     "exception": false,
     "start_time": "2022-12-20T09:54:17.666926",
     "status": "completed"
    },
    "tags": []
   },
   "outputs": [],
   "source": []
  }
 ],
 "metadata": {
  "kernelspec": {
   "display_name": "Python 3",
   "language": "python",
   "name": "python3"
  },
  "language_info": {
   "codemirror_mode": {
    "name": "ipython",
    "version": 3
   },
   "file_extension": ".py",
   "mimetype": "text/x-python",
   "name": "python",
   "nbconvert_exporter": "python",
   "pygments_lexer": "ipython3",
   "version": "3.7.12"
  },
  "papermill": {
   "default_parameters": {},
   "duration": 13.970736,
   "end_time": "2022-12-20T09:54:18.617613",
   "environment_variables": {},
   "exception": null,
   "input_path": "__notebook__.ipynb",
   "output_path": "__notebook__.ipynb",
   "parameters": {},
   "start_time": "2022-12-20T09:54:04.646877",
   "version": "2.3.4"
  }
 },
 "nbformat": 4,
 "nbformat_minor": 5
}
